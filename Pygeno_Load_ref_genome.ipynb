{
 "cells": [
  {
   "cell_type": "code",
   "execution_count": 1,
   "id": "31dbaea8",
   "metadata": {},
   "outputs": [
    {
     "name": "stdout",
     "output_type": "stream",
     "text": [
      "Requirement already satisfied: pyGeno in c:\\users\\user\\new folder\\lib\\site-packages (2.0.0)\n",
      "Requirement already satisfied: rabaDB>=1.0.5 in c:\\users\\user\\new folder\\lib\\site-packages (from pyGeno) (2.0)\n"
     ]
    }
   ],
   "source": [
    "!pip install pyGeno\n"
   ]
  },
  {
   "cell_type": "code",
   "execution_count": 21,
   "id": "0a6ec8a5",
   "metadata": {},
   "outputs": [],
   "source": [
    "import pyGeno.importation.Genomes as PG\n",
    "import pyGeno.importation.SNPs as PS\n",
    "from pyGeno.tools.io import printf\n",
    "import os, tempfile, json\n",
    "import urllib.request, urllib.parse, urllib.error, urllib.request, urllib.error, urllib.parse\n",
    "import pyGeno.configuration as conf\n",
    "\n",
    "#this_dir, this_filename = os.path.split(__file__)\n",
    "\n",
    "def listRemoteDatawraps(location = conf.pyGeno_REMOTE_LOCATION) :\n",
    "    \"\"\"Lists all the datawraps availabe from a remote a remote location.\"\"\"\n",
    "    print(location)\n",
    "    loc = location + \"/datawraps.json\"\n",
    "    response = urllib.request.urlopen(loc)\n",
    "    js = json.loads(response.read())\n",
    "\n",
    "    return js\n",
    "\n",
    "\n",
    "def printRemoteDatawraps(location = conf.pyGeno_REMOTE_LOCATION) :\n",
    "    \"\"\"\n",
    "    print all available datawraps from a remote location the location must have a datawraps.json in the following format::\n",
    "\n",
    "        {\n",
    "        \"Ordered\": {\n",
    "            \"Reference genomes\": {\n",
    "                \"Human\" :\t[\"GRCh37.75\", \"GRCh38.78\"],\n",
    "                \"Mouse\" : [\"GRCm38.78\"]\n",
    "            },\n",
    "            \"SNPs\":{\n",
    "                }\n",
    "        },\n",
    "        \"Flat\":{\n",
    "            \"Reference genomes\": {\n",
    "                \"GRCh37.75\": \"Human.GRCh37.75.tar.gz\",\n",
    "                \"GRCh38.78\": \"Human.GRCh37.75.tar.gz\",\n",
    "                \"GRCm38.78\": \"Mouse.GRCm38.78.tar.gz\"\n",
    "            },\n",
    "            \"SNPs\":{\n",
    "            }\n",
    "        }\n",
    "\n",
    "    \"\"\"\n",
    "\n",
    "    l = listRemoteDatawraps(location)\n",
    "    printf(\"Available datawraps for bootstraping\\n\")\n",
    "    print(json.dumps(l[\"Ordered\"], sort_keys=True, indent=4, separators=(',', ': ')))\n",
    "\n",
    "\n",
    "def _DW(name, url) :\n",
    "    packageDir = tempfile.mkdtemp(prefix = \"pyGeno_remote_\")\n",
    "    \n",
    "    printf(\"~~~:>\\n\\tDownloading datawrap: %s...\" % name)\n",
    "    finalFile = os.path.normpath('%s/%s' %(packageDir, name))\n",
    "    urllib.request.urlretrieve (url, finalFile)\n",
    "    printf('\\tdone.\\n~~~:>')\n",
    "    return finalFile\n",
    "\n",
    "def importRemoteGenome(name, batchSize = 100) :\n",
    "    \"\"\"Import a genome available from http://pygeno.iric.ca (might work).\"\"\"\n",
    "    try :\n",
    "        dw = listRemoteDatawraps()[\"Flat\"][\"Reference genomes\"][name]\n",
    "    except AttributeError :\n",
    "        raise AttributeError(\"There's no remote genome datawrap by the name of: '%s'\" % name)\n",
    "\n",
    "    finalFile = _DW(name, dw[\"url\"])\n",
    "    PG.importGenome(finalFile, batchSize)\n",
    "\n",
    "\n",
    "def importRemoteSNPs(name) :\n",
    "    \"\"\"Import a SNP set available from http://pygeno.iric.ca (might work).\"\"\"\n",
    "    try :\n",
    "        dw = listRemoteDatawraps()[\"Flat\"][\"SNPs\"]\n",
    "    except AttributeError :\n",
    "        raise AttributeError(\"There's no remote genome datawrap by the name of: '%s'\" % name)\n",
    "\n",
    "    finalFile = _DW(name, dw[\"url\"])\n",
    "    PS.importSNPs(finalFile)\n",
    "\n",
    "\n",
    "def listDatawraps() :\n",
    "    \"\"\"Lists all the datawraps pyGeno comes with\"\"\"\n",
    "    l = {\"Genomes\" : [], \"SNPs\" : []}\n",
    "    for f in os.listdir(os.path.join(this_dir, \"bootstrap_data/genomes\")) :\n",
    "        if f.find(\".tar.gz\") > -1 :\n",
    "            l[\"Genomes\"].append(f)\n",
    "\n",
    "    for f in os.listdir(os.path.join(this_dir, \"bootstrap_data/SNPs\")) :\n",
    "        if f.find(\".tar.gz\") > -1 :\n",
    "            l[\"SNPs\"].append(f)\n",
    "\n",
    "    return l\n",
    "\n",
    "\n",
    "def printDatawraps() :\n",
    "    \"\"\"print all available datawraps for bootstraping\"\"\"\n",
    "    l = listDatawraps()\n",
    "    printf(\"Available datawraps for boostraping\\n\")\n",
    "    for k, v in l.items() :\n",
    "        printf(k)\n",
    "        printf(\"~\"*len(k) + \"|\")\n",
    "        for vv in v :\n",
    "            printf(\" \"*len(k) + \"|\" + \"~~~:> \" + vv)\n",
    "        printf('\\n')\n",
    "\n",
    "\n",
    "def importGenome(name, batchSize = 100) :\n",
    "    \"\"\"Import a genome shipped with pyGeno. Most of the datawraps only contain URLs towards data provided by third parties.\"\"\"\n",
    "    path = os.path.join(this_dir, \"bootstrap_data\", \"genomes/\" + name)\n",
    "    PG.importGenome(path, batchSize)\n",
    "\n",
    "\n",
    "def importSNPs(name) :\n",
    "    \"\"\"Import a SNP set shipped with pyGeno. Most of the datawraps only contain URLs towards data provided by third parties.\"\"\"\n",
    "    path = os.path.join(this_dir, \"bootstrap_data\", \"SNPs/\" + name)\n",
    "    PS.importSNPs(path)"
   ]
  },
  {
   "cell_type": "code",
   "execution_count": 36,
   "id": "893c9c76",
   "metadata": {},
   "outputs": [
    {
     "name": "stdout",
     "output_type": "stream",
     "text": [
      "http://bioinfo.iric.ca/~feghalya/pyGeno_datawraps\n"
     ]
    },
    {
     "data": {
      "text/plain": [
       "{'Ordered': {'Reference genomes': {'Human': ['GRCh37.75',\n",
       "    'GRCh38.78',\n",
       "    'GRCh38.98'],\n",
       "   'Mouse': ['GRCm38.78', 'GRCm38.98']},\n",
       "  'SNPs': {}},\n",
       " 'Flat': {'Reference genomes': {'GRCh37.75': {'url': 'http://bioinfo.iric.ca/~feghalya/pyGeno_datawraps/Human.GRCh37.75.tar.gz'},\n",
       "   'GRCh38.78': {'url': 'http://bioinfo.iric.ca/~feghalya/pyGeno_datawraps/Human.GRCh38.78.tar.gz'},\n",
       "   'GRCh38.98': {'url': 'http://bioinfo.iric.ca/~feghalya/pyGeno_datawraps/Human.GRCh38.98.tar.gz'},\n",
       "   'GRCh38.99': {'url': 'http://bioinfo.iric.ca/~feghalya/pyGeno_datawraps/Human.GRCh38.99.tar.gz'},\n",
       "   'GRCm38.78': {'url': 'http://bioinfo.iric.ca/~feghalya/pyGeno_datawraps/Mouse.GRCm38.78.tar.gz'},\n",
       "   'GRCm38.98': {'url': 'http://bioinfo.iric.ca/~feghalya/pyGeno_datawraps/Mouse.GRCm38.98.tar.gz'}},\n",
       "  'SNPs': {}}}"
      ]
     },
     "execution_count": 36,
     "metadata": {},
     "output_type": "execute_result"
    }
   ],
   "source": [
    "data = b.listRemoteDatawraps()\n",
    "data\n",
    "#ref = b.importGenome(name = \"GRCh37.75\")\n",
    "#g = ref.get(Gene, name = \"TPST2\")[0]"
   ]
  },
  {
   "cell_type": "code",
   "execution_count": 3,
   "id": "0cf8b0dd",
   "metadata": {},
   "outputs": [
    {
     "ename": "NameError",
     "evalue": "name 'data' is not defined",
     "output_type": "error",
     "traceback": [
      "\u001b[1;31m---------------------------------------------------------------------------\u001b[0m",
      "\u001b[1;31mNameError\u001b[0m                                 Traceback (most recent call last)",
      "Input \u001b[1;32mIn [3]\u001b[0m, in \u001b[0;36m<cell line: 2>\u001b[1;34m()\u001b[0m\n\u001b[0;32m      1\u001b[0m \u001b[38;5;28;01mimport\u001b[39;00m \u001b[38;5;21;01murllib\u001b[39;00m\n\u001b[1;32m----> 2\u001b[0m link1 \u001b[38;5;241m=\u001b[39m \u001b[43mdata\u001b[49m[\u001b[38;5;124m'\u001b[39m\u001b[38;5;124mFlat\u001b[39m\u001b[38;5;124m'\u001b[39m][\u001b[38;5;124m'\u001b[39m\u001b[38;5;124mReference genomes\u001b[39m\u001b[38;5;124m'\u001b[39m][\u001b[38;5;124m'\u001b[39m\u001b[38;5;124mGRCh37.75\u001b[39m\u001b[38;5;124m'\u001b[39m][\u001b[38;5;124m'\u001b[39m\u001b[38;5;124murl\u001b[39m\u001b[38;5;124m'\u001b[39m]\n\u001b[0;32m      3\u001b[0m link1\n",
      "\u001b[1;31mNameError\u001b[0m: name 'data' is not defined"
     ]
    }
   ],
   "source": [
    "import urllib\n",
    "link1 = data['Flat']['Reference genomes']['GRCh37.75']['url']\n",
    "link1"
   ]
  },
  {
   "cell_type": "code",
   "execution_count": 56,
   "id": "b07d4dc1",
   "metadata": {},
   "outputs": [
    {
     "name": "stdout",
     "output_type": "stream",
     "text": [
      "b'\\x1f\\x8b\\x08\\x08\\xcf#eT\\x00\\x03GRCh37.75.tar\\x00\\xed\\x97\\xc1j\\xe30\\x10\\x86s\\xf6S\\xf8\\x05*[r\\x12\\xb7\\x0b\\x0b\\x0b]\\xd8^zYrh)!(\\xf68\\x16\\xb5e\\xaf$/e\\x9f~\\'N\\xd4M\\x0f\\x85^:{\\x99\\x0f\\x1c\\xd9\\xf2d>\\xc9\\t?I\\xaf\\xadi\\xc0\\x07a\\xacY|\\x129\\xb2^.\\x8f\\xa3\\x92y\\x81cQ\\xaay\\x9cY\\xcb|\\xbd\\x90jYH\\xa5d)W\\x8b\\\\\\x16e\\x99/\\xd2\\xfc\\xb3\\x16t\\xc9\\xe4\\x83vi\\xba\\xa8\\xf50\\xd5:\\xbc[\\xd7Ao`z\\xb9\\xea\\xf4\\x9ebYT<\\x8d\\xbaz\\xd6\\x07\\xd8\\x19\\xdb\\x0c~\\x9b\\xd4\\xe0+g\\xc6`\\x06\\x9b~M\\xef\\xa6^\\xdb\\xd4A\\x03\\x0el\\x05\\xe9\\x01\\xec\\xd0C\\xd2kc\\x03\\x1e\\xe0\\xb0f\\xa3\\x9d\\xf9\\x95~\\x9f\\x1f\\xdf\\xc5\\x9d]5\\xe0Y\\x15\\xb0\"\\x1c+\\xc4\\xe9\\x01\\x7f\\x9bz\\x9cw\\xa0;Q\\xe9\\xe478\\x7f2\\xc9$y:u\\xdf&~\\x84\\xca\\x80\\xc7\\xd9\\xf6\\xe8O\\xac\\xee\\x01/~\\xfc\\xbcm\\x8bR\\x94\\xab\\xc4\\x0f\\x93\\xab\\x8eSm\\x08\\xe3\\x97,\\x9b<h\\xfc\\n\\x83\\xf5\\xd0\\xef;1\\xb8Cv\\xdcN\\x86\\x9f\\xa7\\xce\\x9a0\\xe2U\\r/\\xa2\\r}\\x87\\x9a\\xaauC?xT\\xed\\x1a\\xd3\\x01nZ\\xe6\\xd8\\xab\\x99[\\xe1\\xeb\\x9b>\\xe3\\xb4\\xcf\\x1ct\\xd8\\x1f\\xae\\xcaU\\xd6\\xa0Gg-\\xbe\\x7f\\xe7\\xf5h\\xb02\\xab\\xad\\xce\\xee.&\\xc4\\xeb:\\x05\\xde\\x12\\xfflB\\xe6\\xa2\\xd1\\xe2\\xf0\\'\\x91\\x92\\xc6\\'\\xa3O\\xd1\\xf8T\\xf4\\x154\\xbe\"\\xfa\\x964\\xbee\\xf4\\xadh|\\xab\\xe8[\\xd3\\xf8\\xd6\\xd1W\\xd2\\xf8\\xca\\xe8\\xbb\\xa6\\xf1]G\\xdf\\r\\x8d\\xef&\\xfahtg\\x9b\\xa2I3\\x15\\xd3L\\xd1lO\\xbd\\xee\\x8f&\\xcdTL3\"\\xdd\\xd9F\\x13\\x9d19i\\x823\\xe6&Ml\\xc6\\xd4\\xa4\\t\\xcd\\x98\\x994\\x91\\x19\\x13\\x93&0c^\\xd2\\xc4eL\\xcb\\xfb\\r\\x89\\xee~s\\xf6=\\x90\\xe8\\x1e\\xce\\xb6G\\x12\\xdb\\xe3\\xd96\\xff\\xa8\\x86\\x9d\\x87\\xb0M\\x0e\\xa1\\xf9\\xa8\\x1bK\\xdf\\x9a\\xdf\\xb1b\\xddl\\xf9\\xdf\\xffb\\x18\\x86a\\x18\\x86a\\x18\\x86a\\x18\\x86a\\x18\\x86a\\x18\\x86a\\x98\\xc8_\\xbe\\x99\\x0bR\\x00(\\x00\\x00'\n"
     ]
    }
   ],
   "source": [
    "import urllib.request\n",
    "\n",
    "with urllib.request.urlopen(link1) as url:\n",
    "    s = url.read()\n",
    "    print(s)"
   ]
  },
  {
   "cell_type": "code",
   "execution_count": null,
   "id": "e9287834",
   "metadata": {},
   "outputs": [],
   "source": []
  },
  {
   "cell_type": "code",
   "execution_count": 75,
   "id": "96c5f0ef",
   "metadata": {},
   "outputs": [
    {
     "data": {
      "text/plain": [
       "'GATCACAGGTCTATCACCCTATTAACCACTCACGGGAGCTCTCCATGCATTTGGTATTTTCGTCTGGGGGGTATGCACGCGATAGCATTGCGAGACGCTG'"
      ]
     },
     "execution_count": 75,
     "metadata": {},
     "output_type": "execute_result"
    }
   ],
   "source": [
    "def readgenome(filename):\n",
    "    genome = ''\n",
    "    with open(filename,'r') as f:\n",
    "        for line in f:\n",
    "            if not line[0]=='>':\n",
    "                genome+=line.rstrip()\n",
    "    return genome\n",
    "genome = readgenome('GRCh38_dna.fa')\n",
    "genome[:100]"
   ]
  },
  {
   "cell_type": "code",
   "execution_count": 76,
   "id": "10946728",
   "metadata": {},
   "outputs": [
    {
     "data": {
      "text/plain": [
       "16569"
      ]
     },
     "execution_count": 76,
     "metadata": {},
     "output_type": "execute_result"
    }
   ],
   "source": [
    "len(genome)"
   ]
  },
  {
   "cell_type": "code",
   "execution_count": 77,
   "id": "42d6ff60",
   "metadata": {},
   "outputs": [
    {
     "data": {
      "text/plain": [
       "Counter({'G': 2169, 'A': 5124, 'T': 4094, 'C': 5181, 'N': 1})"
      ]
     },
     "execution_count": 77,
     "metadata": {},
     "output_type": "execute_result"
    }
   ],
   "source": [
    "import collections\n",
    "collections.Counter(genome)"
   ]
  },
  {
   "cell_type": "code",
   "execution_count": null,
   "id": "457e9744",
   "metadata": {},
   "outputs": [],
   "source": []
  }
 ],
 "metadata": {
  "kernelspec": {
   "display_name": "Python 3 (ipykernel)",
   "language": "python",
   "name": "python3"
  },
  "language_info": {
   "codemirror_mode": {
    "name": "ipython",
    "version": 3
   },
   "file_extension": ".py",
   "mimetype": "text/x-python",
   "name": "python",
   "nbconvert_exporter": "python",
   "pygments_lexer": "ipython3",
   "version": "3.9.12"
  }
 },
 "nbformat": 4,
 "nbformat_minor": 5
}
